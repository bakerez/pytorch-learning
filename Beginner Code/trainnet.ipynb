{
 "cells": [
  {
   "cell_type": "markdown",
   "metadata": {},
   "source": [
    "## Neural Nets With Training\n",
    "This is all the same as before..."
   ]
  },
  {
   "cell_type": "code",
   "execution_count": 1,
   "metadata": {},
   "outputs": [],
   "source": [
    "import torch\n",
    "from torch import nn\n",
    "from torch.utils.data import DataLoader\n",
    "from torchvision import datasets\n",
    "from torchvision.transforms import ToTensor, Lambda\n",
    "\n",
    "training_data = datasets.FashionMNIST(\n",
    "    root=\"data\",\n",
    "    train=True,\n",
    "    download=True,\n",
    "    transform=ToTensor()\n",
    ")\n",
    "\n",
    "test_data = datasets.FashionMNIST(\n",
    "    root=\"data\",\n",
    "    train=False,\n",
    "    download=True,\n",
    "    transform=ToTensor()\n",
    ")\n",
    "\n",
    "train_dataloader = DataLoader(training_data, batch_size=64)\n",
    "test_dataloader = DataLoader(test_data, batch_size=64)\n",
    "\n",
    "class NeuralNetwork(nn.Module):\n",
    "    def __init__(self):\n",
    "        super(NeuralNetwork, self).__init__()\n",
    "        self.flatten = nn.Flatten()\n",
    "        self.linear_relu_stack = nn.Sequential(\n",
    "            nn.Linear(28*28, 512),\n",
    "            nn.ReLU(),\n",
    "            # Try sigmoid!\n",
    "            #nn.Sigmoid(),\n",
    "            nn.Linear(512, 512),\n",
    "            nn.ReLU(),\n",
    "            #nn.Sigmoid(),\n",
    "            nn.Linear(512, 10),\n",
    "            nn.ReLU(),\n",
    "            #nn.Sigmoid()\n",
    "        )\n",
    "\n",
    "    def forward(self, x):\n",
    "        x = self.flatten(x)\n",
    "        logits = self.linear_relu_stack(x)\n",
    "        return logits\n",
    "\n",
    "model = NeuralNetwork()"
   ]
  },
  {
   "cell_type": "markdown",
   "metadata": {},
   "source": [
    "Set hyperparameters"
   ]
  },
  {
   "cell_type": "code",
   "execution_count": 3,
   "metadata": {},
   "outputs": [],
   "source": [
    "learning_rate = 0.1\n",
    "batch_size = 32\n",
    "epochs = 3"
   ]
  },
  {
   "cell_type": "markdown",
   "metadata": {},
   "source": [
    "Loss Function - cross entropy loss"
   ]
  },
  {
   "cell_type": "code",
   "execution_count": 5,
   "metadata": {},
   "outputs": [],
   "source": [
    "loss_fn = nn.CrossEntropyLoss()"
   ]
  },
  {
   "cell_type": "markdown",
   "metadata": {},
   "source": [
    "SGD - Stochastic Gradient Descent. This is a method for adjusting our model parameters to minimize loss.\n",
    "\n",
    "Which direction increases loss the most? Change parameters in the **opposite** direction."
   ]
  },
  {
   "cell_type": "code",
   "execution_count": 6,
   "metadata": {},
   "outputs": [],
   "source": [
    "optimizer = torch.optim.SGD(model.parameters(), lr=learning_rate)"
   ]
  },
  {
   "cell_type": "markdown",
   "metadata": {},
   "source": [
    "Now create training loop and test loop functions that set parameters + test our model! NOTES: \n",
    "- optimizer.zero_grad sets the gradients back to zero. We need to do this because otherwise the gradients add up, we don't want this!\n",
    "- loss.backwards backpropogates gradients (i.e. calculate gradients for each relevant variable)\n",
    "- optimizer.step() adjusts the model parameters"
   ]
  },
  {
   "cell_type": "code",
   "execution_count": 5,
   "metadata": {},
   "outputs": [],
   "source": [
    "def train_loop(dataloader, model, loss_fn, optimizer):\n",
    "    size = len(dataloader.dataset)\n",
    "    for batch, (X, y) in enumerate(dataloader):        \n",
    "        # Compute prediction and loss\n",
    "        pred = model(X)\n",
    "        loss = loss_fn(pred, y)\n",
    "        \n",
    "        # Backpropagation\n",
    "        optimizer.zero_grad()\n",
    "        loss.backward()\n",
    "        optimizer.step()\n",
    "\n",
    "        if batch % 100 == 0:\n",
    "            loss, current = loss.item(), batch * len(X)\n",
    "            print(f\"loss: {loss:>7f}  [{current:>5d}/{size:>5d}]\")\n",
    "\n",
    "\n",
    "def test_loop(dataloader, model, loss_fn):\n",
    "    size = len(dataloader.dataset)\n",
    "    test_loss, correct = 0, 0\n",
    "\n",
    "    with torch.no_grad():\n",
    "        for X, y in dataloader:\n",
    "            pred = model(X)\n",
    "            test_loss += loss_fn(pred, y).item()\n",
    "            correct += (pred.argmax(1) == y).type(torch.float).sum().item()\n",
    "            \n",
    "    test_loss /= size\n",
    "    correct /= size\n",
    "    print(f\"Test Error: \\n Accuracy: {(100*correct):>0.1f}%, Avg loss: {test_loss:>8f} \\n\")"
   ]
  },
  {
   "cell_type": "code",
   "execution_count": 6,
   "metadata": {},
   "outputs": [
    {
     "name": "stdout",
     "output_type": "stream",
     "text": [
      "Epoch 1\n",
      "-------------------------------\n",
      "loss: 2.299820  [    0/60000]\n",
      "loss: 1.684995  [ 6400/60000]\n",
      "loss: 1.593637  [12800/60000]\n",
      "loss: 1.789186  [19200/60000]\n",
      "loss: 1.408015  [25600/60000]\n",
      "loss: 1.633760  [32000/60000]\n",
      "loss: 1.615539  [38400/60000]\n",
      "loss: 1.633651  [44800/60000]\n",
      "loss: 1.666712  [51200/60000]\n",
      "loss: 1.813366  [57600/60000]\n",
      "Test Error: \n",
      " Accuracy: 46.6%, Avg loss: 0.022017 \n",
      "\n",
      "Epoch 2\n",
      "-------------------------------\n",
      "loss: 1.388217  [    0/60000]\n",
      "loss: 1.255281  [ 6400/60000]\n",
      "loss: 1.383880  [12800/60000]\n",
      "loss: 1.439965  [19200/60000]\n",
      "loss: 1.107755  [25600/60000]\n",
      "loss: 1.425321  [32000/60000]\n",
      "loss: 1.199127  [38400/60000]\n",
      "loss: 1.405067  [44800/60000]\n",
      "loss: 1.358490  [51200/60000]\n",
      "loss: 1.384553  [57600/60000]\n",
      "Test Error: \n",
      " Accuracy: 47.5%, Avg loss: 0.020901 \n",
      "\n",
      "Epoch 3\n",
      "-------------------------------\n",
      "loss: 1.314806  [    0/60000]\n",
      "loss: 1.190368  [ 6400/60000]\n",
      "loss: 1.267247  [12800/60000]\n",
      "loss: 1.349691  [19200/60000]\n",
      "loss: 0.986404  [25600/60000]\n",
      "loss: 1.282620  [32000/60000]\n",
      "loss: 0.905171  [38400/60000]\n",
      "loss: 1.153442  [44800/60000]\n",
      "loss: 1.112008  [51200/60000]\n",
      "loss: 0.971980  [57600/60000]\n",
      "Test Error: \n",
      " Accuracy: 62.6%, Avg loss: 0.015736 \n",
      "\n",
      "Epoch 4\n",
      "-------------------------------\n",
      "loss: 0.998364  [    0/60000]\n",
      "loss: 0.885667  [ 6400/60000]\n",
      "loss: 1.013195  [12800/60000]\n",
      "loss: 1.027609  [19200/60000]\n",
      "loss: 0.709943  [25600/60000]\n",
      "loss: 1.187845  [32000/60000]\n",
      "loss: 0.832380  [38400/60000]\n",
      "loss: 1.104401  [44800/60000]\n",
      "loss: 1.114859  [51200/60000]\n",
      "loss: 0.961580  [57600/60000]\n",
      "Test Error: \n",
      " Accuracy: 63.5%, Avg loss: 0.014996 \n",
      "\n",
      "Epoch 5\n",
      "-------------------------------\n",
      "loss: 0.948385  [    0/60000]\n",
      "loss: 0.830280  [ 6400/60000]\n",
      "loss: 0.968520  [12800/60000]\n",
      "loss: 0.999532  [19200/60000]\n",
      "loss: 0.666430  [25600/60000]\n",
      "loss: 1.178295  [32000/60000]\n",
      "loss: 0.802267  [38400/60000]\n",
      "loss: 1.083931  [44800/60000]\n",
      "loss: 1.118626  [51200/60000]\n",
      "loss: 0.951004  [57600/60000]\n",
      "Test Error: \n",
      " Accuracy: 63.7%, Avg loss: 0.014749 \n",
      "\n",
      "Done!\n"
     ]
    }
   ],
   "source": [
    "loss_fn = nn.CrossEntropyLoss()\n",
    "optimizer = torch.optim.SGD(model.parameters(), lr=learning_rate)\n",
    "\n",
    "epochs = 5\n",
    "for t in range(epochs):\n",
    "    print(f\"Epoch {t+1}\\n-------------------------------\")\n",
    "    train_loop(train_dataloader, model, loss_fn, optimizer)\n",
    "    test_loop(test_dataloader, model, loss_fn)\n",
    "print(\"Done!\")"
   ]
  },
  {
   "cell_type": "markdown",
   "metadata": {},
   "source": [
    "Save the trained model into another file"
   ]
  },
  {
   "cell_type": "code",
   "execution_count": 7,
   "metadata": {},
   "outputs": [
    {
     "name": "stdout",
     "output_type": "stream",
     "text": [
      "Saved PyTorch Model State to model.pth\n"
     ]
    }
   ],
   "source": [
    "torch.save(model.state_dict(), \"data/model.pth\")\n",
    "\n",
    "print(\"Saved PyTorch Model State to model.pth\")"
   ]
  }
 ],
 "metadata": {
  "kernelspec": {
   "display_name": "Python 3.8.10 64-bit",
   "language": "python",
   "name": "python3"
  },
  "language_info": {
   "codemirror_mode": {
    "name": "ipython",
    "version": 3
   },
   "file_extension": ".py",
   "mimetype": "text/x-python",
   "name": "python",
   "nbconvert_exporter": "python",
   "pygments_lexer": "ipython3",
   "version": "3.8.10"
  },
  "orig_nbformat": 4,
  "vscode": {
   "interpreter": {
    "hash": "916dbcbb3f70747c44a77c7bcd40155683ae19c65e1c03b4aa3499c5328201f1"
   }
  }
 },
 "nbformat": 4,
 "nbformat_minor": 2
}
